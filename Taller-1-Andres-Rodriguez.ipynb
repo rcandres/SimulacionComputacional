{
 "cells": [
  {
   "cell_type": "markdown",
   "metadata": {},
   "source": [
    "## Taller 1 Simulacion Computacional\n",
    "### Andres Felipe Rodriguez Cabanzo"
   ]
  },
  {
   "cell_type": "markdown",
   "metadata": {},
   "source": [
    "**1). Si $x_0 = 5$ y $x_n = 3x_{n−1}$ mod $150$, determine $x_1, . . . , x_{10}$.**<br>\n"
   ]
  },
  {
   "cell_type": "code",
   "execution_count": 1,
   "metadata": {},
   "outputs": [
    {
     "name": "stdout",
     "output_type": "stream",
     "text": [
      "X1 =15 y U1=0.1\n",
      "X2 =45 y U2=0.3\n",
      "X3 =135 y U3=0.9\n",
      "X4 =105 y U4=0.7\n",
      "X5 =15 y U5=0.1\n",
      "X6 =45 y U6=0.3\n",
      "X7 =135 y U7=0.9\n",
      "X8 =105 y U8=0.7\n",
      "X9 =15 y U9=0.1\n",
      "X10 =45 y U10=0.3\n"
     ]
    }
   ],
   "source": [
    "\n",
    "def ge_Multiplicativo():\n",
    "    m=150\n",
    "    a=3\n",
    "    xn=5\n",
    "    resultado=[]\n",
    "    Xn=[]\n",
    "    for i in range (10):\n",
    "        xn=(a*xn)%(m)\n",
    "        resultado.append(xn/m)\n",
    "        Xn.append(xn)\n",
    "        print(\"X{} ={} y U{}={}\".format(i+1,Xn[i],i+1,resultado[i]))   \n",
    "\n",
    "if __name__==\"__main__\":\n",
    "    ge_Multiplicativo()"
   ]
  },
  {
   "cell_type": "markdown",
   "metadata": {},
   "source": [
    "**2). Si $x_0 = 3$ y $x_n = 5x_{n−1}$ +$7$ mod $200$, determine $x_1, . . . , x_{10}$.**<br>\n"
   ]
  },
  {
   "cell_type": "code",
   "execution_count": 2,
   "metadata": {},
   "outputs": [
    {
     "name": "stdout",
     "output_type": "stream",
     "text": [
      "X1 =22 y U1=0.11\n",
      "X2 =117 y U2=0.585\n",
      "X3 =192 y U3=0.96\n",
      "X4 =167 y U4=0.835\n",
      "X5 =42 y U5=0.21\n",
      "X6 =17 y U6=0.085\n",
      "X7 =92 y U7=0.46\n",
      "X8 =67 y U8=0.335\n",
      "X9 =142 y U9=0.71\n",
      "X10 =117 y U10=0.585\n"
     ]
    }
   ],
   "source": [
    "def ge_mixto():\n",
    "    m=200\n",
    "    a=5\n",
    "    c=7\n",
    "    xn=3\n",
    "    resultado=[]\n",
    "    Xn=[]\n",
    "    for i in range (10):\n",
    "        xn=(a*xn+c)%(m)\n",
    "        resultado.append(xn/m)\n",
    "        Xn.append(xn)\n",
    "        print(\"X{} ={} y U{}={}\".format(i+1,Xn[i],i+1,resultado[i]))   \n",
    "if __name__==\"__main__\":\n",
    "    ge_mixto()"
   ]
  },
  {
   "cell_type": "markdown",
   "metadata": {},
   "source": [
    "**3). Escriba un programa para generar $n$ valores a partir de la funcion de masa de probabilidad $p_{1}$=$\\frac{1}{3}$, $p_{2}$=$\\frac{2}{3}$.**<br>\n",
    "    (a).Sea $n$ = $100$, ejecute el programa y determine la proporcion de valores que sean iguales a 1. <br>\n",
    "    (b).Repita (a) con $n$=$1000$. <br>\n",
    "    (c).Repita (a) con $n$=$10000$.\n"
   ]
  },
  {
   "cell_type": "code",
   "execution_count": 3,
   "metadata": {
    "scrolled": true
   },
   "outputs": [
    {
     "name": "stdout",
     "output_type": "stream",
     "text": [
      "a).Cantidad de valores iguales a 1 con n=100 : 25\n",
      "b).Cantidad de valores iguales a 1 con n=1000 : 348\n",
      "c).Cantidad de valores iguales a 1 con n=10000 : 3345\n"
     ]
    }
   ],
   "source": [
    "from datetime import datetime\n",
    "import time\n",
    "\n",
    "def ge_Congruencial_mixto(n):\n",
    "    a=25214903917\n",
    "    c=11 \n",
    "    m=(2**48)-1\n",
    "    xn=datetime.now().microsecond\n",
    "    numeros=[]\n",
    "    for i in range (n):\n",
    "        xn=(a*xn+c)%(m)\n",
    "        numeros.append(xn/m)\n",
    "    return numeros\n",
    "\n",
    "def prob_acumulada(prob):\n",
    "    aux=0\n",
    "    p_acu=[0]\n",
    "    for i in range(len(prob)):\n",
    "        aux=aux+prob[i]\n",
    "        p_acu.append(aux)\n",
    "    return p_acu\n",
    "    \n",
    "def trans_inversa(prob,n):    \n",
    "    Ui=ge_Congruencial_mixto(n)\n",
    "    p_acu=prob_acumulada(prob)\n",
    "    cont=0\n",
    "    for i in range(len(Ui)):\n",
    "        for j in range(1,len(p_acu)):\n",
    "            if(Ui[i]>=p_acu[j-1] and Ui[i]<=p_acu[j]):\n",
    "                if(j==1):\n",
    "                    cont+=1\n",
    "    return cont\n",
    "if __name__==\"__main__\":\n",
    "    prob=[1/3,2/3]\n",
    "    print(\"a).Cantidad de valores iguales a 1 con n=100 :\",trans_inversa(prob,100))\n",
    "    print(\"b).Cantidad de valores iguales a 1 con n=1000 :\",trans_inversa(prob,1000))\n",
    "    print(\"c).Cantidad de valores iguales a 1 con n=10000 :\",trans_inversa(prob,10000))\n",
    "    \n",
    "\n"
   ]
  },
  {
   "cell_type": "markdown",
   "metadata": {},
   "source": [
    "**4).Emplee la simulacion para aproximar las siguientes integrales. Compare su estimacion con la respuesta exacta, si esta se conoce**."
   ]
  },
  {
   "cell_type": "markdown",
   "metadata": {},
   "source": [
    "(a). $I=\\int_{0}^{1} e^{e^{x}}dx$<br>\n",
    "\n",
    "(b). $I=\\int_{0}^{1}(1-x^2)^\\frac{3}{2} dx$<br>\n",
    "\n",
    "(c). $I=\\int_{-2}^{2} e^{x +x^{2}} dx$<br>\n",
    "\n",
    "(d). $I=\\int_{0}^{\\infty} x(1+x^{2})^{-2} dx$<br>\n",
    "\n",
    "(e). $I=\\int_{-\\infty}^{\\infty} e^{-x^{2}} dx$<br>\n",
    "\n",
    "(f). $I=\\int_{0}^{1}\\int_{0}^{1} e^{(x+y)^{2}} dydx$"
   ]
  },
  {
   "cell_type": "code",
   "execution_count": 4,
   "metadata": {},
   "outputs": [
    {
     "name": "stdout",
     "output_type": "stream",
     "text": [
      "a).Valor real de la integral: 6.31656 ,Valor simulado:   6.31856\n",
      "b).Valor real de la integral: 0.58905 ,Valor simulado:   0.58994\n",
      "c).Valor real de la integral: 93.1628 ,Valor simulado:   92.63577\n",
      "d).Valor real de la integral: 0.5 ,Valor simulado:   0.48487\n",
      "e).Valor real de la integral: 1.77245 ,Valor simulado:   1.77348\n",
      "f).Valor real de la integral: 4.89916 ,Valor simulado:   4.99679\n"
     ]
    }
   ],
   "source": [
    "from random import random\n",
    "import math\n",
    "\n",
    "def integral_a():\n",
    "    suma=0\n",
    "    n=0\n",
    "    x=0\n",
    "    y=0\n",
    "    b=1\n",
    "    a=0\n",
    "    ale=ge_Congruencial_mixto(10000)\n",
    "    while (n<10000):\n",
    "        x=ale[n]*(b-a)+a\n",
    "        y=(b-a)*math.exp(math.exp(x))\n",
    "        suma+=y\n",
    "        n+=1\n",
    "    print(\"a).Valor real de la integral: 6.31656 ,Valor simulado:  \",round(suma/n,5))\n",
    "    \n",
    "def integral_b():\n",
    "    suma=0\n",
    "    n=0\n",
    "    x=0\n",
    "    y=0\n",
    "    a=0\n",
    "    b=1\n",
    "    ale=ge_Congruencial_mixto(10000)\n",
    "    while (n<10000):\n",
    "        x=(b-a)*ale[n]+a\n",
    "        y=(b-a)*((1-(x)**2))**(3/2)\n",
    "        suma+=y\n",
    "        n+=1\n",
    "    print(\"b).Valor real de la integral: 0.58905 ,Valor simulado:  \",round(suma/n,5)) \n",
    "    \n",
    "def integral_c():\n",
    "    suma=0\n",
    "    n=0\n",
    "    x=0\n",
    "    y=0\n",
    "    a=-2\n",
    "    b=2\n",
    "    ale=ge_Congruencial_mixto(10000)\n",
    "    while (n<10000):\n",
    "        x=(b-a)*ale[n]+a\n",
    "        y=(b-a)*math.exp(x+(x)**2)\n",
    "        suma+=y\n",
    "        n+=1\n",
    "    print(\"c).Valor real de la integral: 93.1628 ,Valor simulado:  \",round(suma/n,5)) \n",
    "    \n",
    "def integral_d():\n",
    "    suma=0\n",
    "    n=0\n",
    "    x=0\n",
    "    y=0\n",
    "    b=6\n",
    "    a=0\n",
    "    ale=ge_Congruencial_mixto(10000)\n",
    "    while (n<10000):\n",
    "        x=(b-a)*ale[n]+a\n",
    "        y=(b-a)*(x*(1+ x**2)**-2)\n",
    "        suma+=y\n",
    "        n+=1\n",
    "    print(\"d).Valor real de la integral: 0.5 ,Valor simulado:  \",round(suma/n,5)) \n",
    "    \n",
    "def integral_e():\n",
    "    suma=0\n",
    "    n=0\n",
    "    x=0\n",
    "    y=0\n",
    "    a=-3\n",
    "    b=3\n",
    "    ale=ge_Congruencial_mixto(100000)\n",
    "    while (n<100000):\n",
    "        x=(b-a)*random()+a\n",
    "        y=(b-a)*math.exp(-x**2)\n",
    "        suma+=y\n",
    "        n+=1\n",
    "    print(\"e).Valor real de la integral: 1.77245 ,Valor simulado:  \",round(suma/n,5)) \n",
    "    \n",
    "def integral_f():\n",
    "    suma=0\n",
    "    n=0\n",
    "    a=0\n",
    "    b=1\n",
    "    ale=ge_Congruencial_mixto(10000)\n",
    "    time.sleep(0.02)\n",
    "    ale2=ge_Congruencial_mixto(10000)\n",
    "    while (n<10000):\n",
    "        x=(b-a)*ale[n]+a\n",
    "        y=(b-a)*ale2[n]+a\n",
    "        Y=math.e**(x+y)**2\n",
    "        suma+=Y\n",
    "        n+=1\n",
    "    print(\"f).Valor real de la integral: 4.89916 ,Valor simulado:  \",round(suma/n,5))\n",
    "    \n",
    "if __name__==\"__main__\":\n",
    "    integral_a()\n",
    "    integral_b()\n",
    "    integral_c()\n",
    "    integral_d()\n",
    "    integral_e()\n",
    "    integral_f()\n",
    "    \n",
    "\n",
    "        \n"
   ]
  },
  {
   "cell_type": "markdown",
   "metadata": {},
   "source": [
    "**5).Implemente el metodo de la transformada inversa para generacion de variables aleatorias discretas con un ejemplo para los siguientes casos:**<br>\n",
    "    (a).Poisson<br>\n",
    "    (b).Binomial <br>\n",
    "    (c).Tecnica de aceptacion y rechazo<br>\n",
    "    (d) Metodo de composicion\n",
    "\n"
   ]
  },
  {
   "cell_type": "markdown",
   "metadata": {},
   "source": [
    "**(a).Poisson:**<br>"
   ]
  },
  {
   "cell_type": "code",
   "execution_count": 5,
   "metadata": {},
   "outputs": [
    {
     "name": "stdout",
     "output_type": "stream",
     "text": [
      "El valor de la Variable Aleatoria de poisson es: 26  Con un lamda de: 20\n"
     ]
    }
   ],
   "source": [
    "from datetime import datetime\n",
    "import time\n",
    "import math\n",
    "    \n",
    "def va_poisson(la):\n",
    "    i=0\n",
    "    p=math.exp(-la)\n",
    "    F=p\n",
    "    X=0\n",
    "    num=ge_Congruencial_mixto(100)\n",
    "    while True:\n",
    "        if(num[0]<F):\n",
    "            X=i\n",
    "            break\n",
    "        else:\n",
    "            p=(la*p)/(i+1)\n",
    "            F=F+p\n",
    "            i=i+1\n",
    "    X=i\n",
    "    return X\n",
    "if __name__==\"__main__\":\n",
    "    lamda=20\n",
    "    print(\"El valor de la Variable Aleatoria de poisson es:\",va_poisson(lamda),\" Con un lamda de:\",lamda)\n"
   ]
  },
  {
   "cell_type": "markdown",
   "metadata": {
    "collapsed": true
   },
   "source": [
    "**(b).Binomial:** <br>"
   ]
  },
  {
   "cell_type": "code",
   "execution_count": 6,
   "metadata": {},
   "outputs": [
    {
     "name": "stdout",
     "output_type": "stream",
     "text": [
      "El valor de la Variable Aleatoria Binomial es: 21  Con n= 40  y p= 0.5\n"
     ]
    }
   ],
   "source": [
    "from datetime import datetime\n",
    "import time\n",
    "import math\n",
    "def va_binomial(n,p):\n",
    "    c=p/(1-p)\n",
    "    i=0\n",
    "    pr=(1-p)**n\n",
    "    F=pr\n",
    "    num=ge_Congruencial_mixto(100)\n",
    "    while True:\n",
    "        if(num[0]<F):\n",
    "            X=i\n",
    "            break\n",
    "        else:\n",
    "            pr=((c*(n-i))/(i+1))*pr\n",
    "            F=F+pr\n",
    "            i=i+1\n",
    "    return X\n",
    "if __name__==\"__main__\":\n",
    "    n=40\n",
    "    p=0.5\n",
    "    print(\"El valor de la Variable Aleatoria Binomial es:\",va_binomial(n,p),\" Con n=\",n,\" y p=\",p)\n"
   ]
  },
  {
   "cell_type": "markdown",
   "metadata": {},
   "source": [
    "**(C).Tecnica de aceptacion y rechazo:** <br>"
   ]
  },
  {
   "cell_type": "code",
   "execution_count": 7,
   "metadata": {},
   "outputs": [
    {
     "name": "stdout",
     "output_type": "stream",
     "text": [
      "Valor de la Variable Aleatoria: 2\n"
     ]
    }
   ],
   "source": [
    "from datetime import datetime\n",
    "import time\n",
    "\n",
    "def maximo(p,qj):\n",
    "    aux=0\n",
    "    for i in range(len(p)):\n",
    "        c=p[i]/qj\n",
    "        if(c>aux):\n",
    "            aux=c\n",
    "    return aux\n",
    "\n",
    "def acep_recha(p,qj):\n",
    "    c=maximo(p,qj)\n",
    "    while True:\n",
    "        U1=ge_Congruencial_mixto(100)\n",
    "        Y=int(10*U1[0])+1\n",
    "        time.sleep(0.02)\n",
    "        U2=ge_Congruencial_mixto(100)\n",
    "        \n",
    "        if(U2[0]<=(p[Y-1]/(c*qj))):\n",
    "            X=Y\n",
    "            break\n",
    "    return X        \n",
    "    \n",
    "if __name__==\"__main__\":\n",
    "    p=[0.11,0.12,0.09,0.08,0.12,0.10,0.09,0.09,0.10,0.10]\n",
    "    qj=1/10\n",
    "    print(\"Valor de la Variable Aleatoria:\",acep_recha(p,qj))"
   ]
  },
  {
   "cell_type": "markdown",
   "metadata": {},
   "source": [
    "**(d). Metodo de composicion:** <br>"
   ]
  },
  {
   "cell_type": "code",
   "execution_count": 8,
   "metadata": {},
   "outputs": [
    {
     "name": "stdout",
     "output_type": "stream",
     "text": [
      "La Variable Aleatoria generada es: 9\n"
     ]
    }
   ],
   "source": [
    "from datetime import datetime\n",
    "import time\n",
    "\n",
    "def composicion():\n",
    "    U1=ge_Congruencial_mixto(100)\n",
    "    time.sleep(0.02)\n",
    "    U2=ge_Congruencial_mixto(100)    \n",
    "    \n",
    "    if(U1[0]<0.5):\n",
    "        return(int(10*U2[0])+1)\n",
    "    else:\n",
    "        return(int(5*U2[0])+6)\n",
    "\n",
    "if __name__==\"__main__\":\n",
    "    print(\"La Variable Aleatoria generada es:\",composicion())\n",
    "    "
   ]
  },
  {
   "cell_type": "markdown",
   "metadata": {},
   "source": [
    "**6).Se baraja un conjunto un conjunto de $100$ cartas (enumeradas del $1$ al $100$) y luego se voltean, una a la vez. Decimos        que ocurre un \"exito\" si la carta i es la i-esima carta volteada, $i=1$; :::::; $100$.**<br><br>\n",
    "     a).Escriba un programa de simulacion para estimar la esperanza y la varianza del numero total de exitos.<br>\n",
    "     b).Ejecute el programa y determine las repuestas exactas y comparelas con sus estimaciones."
   ]
  },
  {
   "cell_type": "code",
   "execution_count": 9,
   "metadata": {},
   "outputs": [
    {
     "name": "stdout",
     "output_type": "stream",
     "text": [
      "a).Numero de extios: 1.0 Probabilidad Simulada: 0.01\n",
      "a).Valor esperado : 1.0 Varianza: 0.99\n"
     ]
    }
   ],
   "source": [
    "from datetime import datetime\n",
    "import time\n",
    "\n",
    "def cartas():\n",
    "    for i in range(100):\n",
    "        ca.append(i+1)\n",
    "        \n",
    "def barajar():\n",
    "    cartas()\n",
    "    a=1\n",
    "    aux=0\n",
    "    for i in range(1,len(ca)+1):\n",
    "        b=len(ca)\n",
    "        time.sleep(0.002)\n",
    "        Ui=ge_Congruencial_mixto(1)    \n",
    "        xi=int((b)*Ui[0]+a)\n",
    "        aux=ca[xi-1]\n",
    "        bara.append(aux)\n",
    "        ca.remove(aux)\n",
    "    \n",
    "def exitos():\n",
    "    barajar()\n",
    "    exito=0\n",
    "    for i in range(1,len(bara)+1):\n",
    "        if(i==bara[i-1]):\n",
    "            exito+=1\n",
    "    return(exito)\n",
    "\n",
    "def probabilidad_simu():\n",
    "    prob=exitos()/100\n",
    "    valor_esp=100*prob\n",
    "    var=100*prob*(1-prob)\n",
    "    print(\"a).Numero de extios:\",prob*100,\"Probabilidad Simulada:\",prob)\n",
    "    print(\"a).Valor esperado :\",valor_esp,\"Varianza:\",var)\n",
    "    \n",
    "\n",
    "if __name__==\"__main__\":\n",
    "    ca=[]\n",
    "    bara=[]\n",
    "    probabilidad_simu()\n",
    "    \n"
   ]
  },
  {
   "cell_type": "markdown",
   "metadata": {},
   "source": [
    "**7).Aplique la prueba de Kolmogorov-Smirnov para comprobar si los siguientes generadores garantizan uniformidad:**<br>\n",
    "\n",
    "a).$x_{0}=7$ y $x_{n}=5$ $x_{n-1} mod 150$, generando $n= 1000$ numeros.<br>\n",
    "b).$x_{0}=3$ y $x_{n}=157x_{n-1} + 1 mod  2^{31}$, generando $n = 1000$ numeros.<br>\n",
    "c).$x_{0} =3$ y $x_{n}=22695477 x_{n-1+} + 1 mod 2^{32}$, generando $n =1000$ numeros.\n",
    "\n",
    "\n",
    "   \n"
   ]
  },
  {
   "cell_type": "code",
   "execution_count": 10,
   "metadata": {
    "scrolled": false
   },
   "outputs": [
    {
     "name": "stdout",
     "output_type": "stream",
     "text": [
      "Histograma del generador a:\n"
     ]
    },
    {
     "name": "stderr",
     "output_type": "stream",
     "text": [
      "c:\\users\\felip\\appdata\\local\\programs\\python\\python36-32\\lib\\site-packages\\matplotlib\\axes\\_axes.py:6462: UserWarning: The 'normed' kwarg is deprecated, and has been replaced by the 'density' kwarg.\n",
      "  warnings.warn(\"The 'normed' kwarg is deprecated, and has been \"\n"
     ]
    },
    {
     "data": {
      "text/plain": [
       "<Figure size 640x480 with 1 Axes>"
      ]
     },
     "metadata": {},
     "output_type": "display_data"
    },
    {
     "data": {
      "text/plain": [
       "<Figure size 640x480 with 1 Axes>"
      ]
     },
     "metadata": {},
     "output_type": "display_data"
    },
    {
     "name": "stdout",
     "output_type": "stream",
     "text": [
      "Mayor Diferencia:  0.3336658657055136\n",
      "Estadistico:  0.060821048987994286\n",
      "El generador de aleatorios no garantiza la uniformidad\n",
      " \n",
      "Histograma del generador b:\n"
     ]
    },
    {
     "data": {
      "text/plain": [
       "<Figure size 640x480 with 1 Axes>"
      ]
     },
     "metadata": {},
     "output_type": "display_data"
    },
    {
     "data": {
      "text/plain": [
       "<Figure size 640x480 with 1 Axes>"
      ]
     },
     "metadata": {},
     "output_type": "display_data"
    },
    {
     "name": "stdout",
     "output_type": "stream",
     "text": [
      "Mayor Diferencia:  0.2505102885686681\n",
      "Estadistico:  0.060821048987994286\n",
      "El generador de aleatorios no garantiza la uniformidad\n",
      " \n",
      "Histograma del generador c:\n"
     ]
    },
    {
     "data": {
      "text/plain": [
       "<Figure size 640x480 with 1 Axes>"
      ]
     },
     "metadata": {},
     "output_type": "display_data"
    },
    {
     "data": {
      "text/plain": [
       "<Figure size 640x480 with 1 Axes>"
      ]
     },
     "metadata": {},
     "output_type": "display_data"
    },
    {
     "name": "stdout",
     "output_type": "stream",
     "text": [
      "Mayor Diferencia:  0.2531231297001463\n",
      "Estadistico:  0.060821048987994286\n",
      "El generador de aleatorios no garantiza la uniformidad\n",
      " \n"
     ]
    }
   ],
   "source": [
    "import numpy as np\n",
    "import scipy as sp\n",
    "import matplotlib.pyplot as plt\n",
    "from scipy import stats\n",
    "\n",
    "def generador(Xo,a,c,m,n):\n",
    "    numeros=[]\n",
    "    xn=Xo\n",
    "    for i in range (n):\n",
    "        xn=(a*xn+c)%(m)\n",
    "        numeros.append(xn/m)\n",
    "    return numeros\n",
    "    \n",
    "def histograma(Xo,a,c,m,n):\n",
    "    x = generador(Xo,a,c,m,n)\n",
    "    count, bins, ignored = plt.hist(x, 25, normed=True)\n",
    "    plt.plot(bins, np.ones_like(bins), linewidth=2, color='r')\n",
    "    plt.show()\n",
    "    d=grafica(x,n)\n",
    "    validTest(d,n)\n",
    "    \n",
    "    \n",
    "    \n",
    "def grafica(x,N):\n",
    "    u = [1.0] * N\n",
    "    x1 = np.arange(1/N,1+1/N,1/N)\n",
    "    y1 = np.cumsum(np.sort(u)/np.max(np.cumsum(u)))\n",
    "    x2 = np.sort(x)\n",
    "    y2 = np.cumsum(np.sort(x)/np.max(np.cumsum(x)))\n",
    "    De=np.absolute(y2-y1)\n",
    "    plt.plot(x1,y1,label='Uniform')\n",
    "    plt.step(x2,y2,label='Random')\n",
    "    x3 = [x1[De.argmax()],x1[De.argmax()]]\n",
    "    y3 = [np.min([y1[De.argmax()],y2[De.argmax()]]),np.max([y1[De.argmax()],y2[De.argmax()]])]\n",
    "    plt.step(x3,y3,label='D')\n",
    "    plt.legend()\n",
    "    plt.xlabel('X')\n",
    "    plt.ylabel('Cumulative Probability P(X)')\n",
    "    plt.ylim(0, 1.05)\n",
    "    plt.show()\n",
    "    return(np.max(De))\n",
    "    \n",
    "def validTest(D,n):\n",
    "    calp=1.36\n",
    "    est =calp*math.sqrt((2*n)/(n**2))\n",
    "    print(\"Mayor Diferencia: \",D)\n",
    "    print(\"Estadistico: \",est)\n",
    "    if D > est: \n",
    "        print(\"El generador de aleatorios no garantiza la uniformidad\")\n",
    "    else: \n",
    "        print(\"El generador de aleatorios sí garantiza la uniformidad\")\n",
    "    print(\" \")\n",
    "    \n",
    "if __name__==\"__main__\":\n",
    "    print(\"Histograma del generador a:\")\n",
    "    histograma(7,5,0,150,1000)\n",
    "    print(\"Histograma del generador b:\")\n",
    "    histograma(3,175,1,2**31,1000)\n",
    "    print(\"Histograma del generador c:\")\n",
    "    histograma(3,22695477,1,2**32,1000)"
   ]
  },
  {
   "cell_type": "markdown",
   "metadata": {},
   "source": [
    "**8).Aplique la prueba de $X^{2}$ para comprobar si los tres generadores congruenciales del punto 7 garantizan uniformidad.**"
   ]
  },
  {
   "cell_type": "code",
   "execution_count": 11,
   "metadata": {},
   "outputs": [
    {
     "name": "stderr",
     "output_type": "stream",
     "text": [
      "c:\\users\\felip\\appdata\\local\\programs\\python\\python36-32\\lib\\site-packages\\matplotlib\\axes\\_axes.py:6462: UserWarning: The 'normed' kwarg is deprecated, and has been replaced by the 'density' kwarg.\n",
      "  warnings.warn(\"The 'normed' kwarg is deprecated, and has been \"\n"
     ]
    },
    {
     "name": "stdout",
     "output_type": "stream",
     "text": [
      "3990.0200000000004\n",
      "El generador (a)  No garantiza la uniformidad\n",
      "15.34\n",
      "El generador (b)  Sí garantiza la uniformidad\n",
      "10.7\n",
      "El generador (c)  Sí garantiza la uniformidad\n"
     ]
    },
    {
     "data": {
      "text/plain": [
       "<Figure size 432x288 with 0 Axes>"
      ]
     },
     "metadata": {},
     "output_type": "display_data"
    }
   ],
   "source": [
    "import matplotlib.pyplot as plt\n",
    "%matplotlib inline\n",
    "k = 10\n",
    "N = 1000\n",
    "\n",
    "ei = N/k\n",
    "grados = k-1\n",
    "tabla = 16.919\n",
    "\n",
    "def chi_cuadrado (x):\n",
    "    frecuencias, separa, aux = plt.hist(x, k, normed=False)\n",
    "    plt.clf()\n",
    "    suma = 0\n",
    "    \n",
    "    for m in range(1,k+1):\n",
    "        suma+=((frecuencias[m-1]-ei)**2)/ei\n",
    "    \n",
    "    print(suma)\n",
    "    if suma<tabla:\n",
    "        return \"Sí\"\n",
    "    else:\n",
    "        return \"No\"\n",
    "    \n",
    "if __name__ == \"__main__\":\n",
    "    xa = generador(7,5,0,150,N)\n",
    "    ra = chi_cuadrado(xa)\n",
    "    print(\"El generador (a) \", ra, \"garantiza la uniformidad\")\n",
    "    xb = generador(3,157,1,2**31,N)\n",
    "    rb = chi_cuadrado(xb)\n",
    "    print(\"El generador (b) \", rb, \"garantiza la uniformidad\")\n",
    "    xc = generador(3,22695477,1,2**32,N)\n",
    "    rc = chi_cuadrado(xc)\n",
    "    print(\"El generador (c) \", rc, \"garantiza la uniformidad\")"
   ]
  },
  {
   "cell_type": "markdown",
   "metadata": {},
   "source": [
    "**9).Aplique el test de rachas a cada uno de los tres generadores congruenciales del punto 7, para evaluar si cumplen con el criterio de aleatoriedad. **"
   ]
  },
  {
   "cell_type": "code",
   "execution_count": 12,
   "metadata": {},
   "outputs": [
    {
     "name": "stdout",
     "output_type": "stream",
     "text": [
      "n1 :  499  n2:  500  R:  999\n",
      "Z =  -24.9851601207869\n",
      "Z2 =  31.559562734677044\n",
      "No cumple criterio de aleatoriedad\n",
      "n1 :  486  n2:  513  R:  676\n",
      "Z =  -33.071539598757006\n",
      "Z2 =  11.141962562528871\n",
      "No cumple criterio de aleatoriedad\n",
      "n1 :  506  n2:  493  R:  645\n",
      "Z =  -33.84763174679748\n",
      "Z2 =  9.15504656016657\n",
      "No cumple criterio de aleatoriedad\n"
     ]
    }
   ],
   "source": [
    "N = 1000\n",
    "Zalfa2 = 0\n",
    "\n",
    "def testRachas (x):\n",
    "    sucesion = \"\"    \n",
    "    for i in range(N-1):\n",
    "        if x[i]<x[i+1]:\n",
    "            sucesion+=\"1\"\n",
    "        else:\n",
    "            sucesion+=\"0\"\n",
    "    return sucesion\n",
    "    \n",
    "def contarRachas(s):\n",
    "    rachas = 0\n",
    "    unos = False\n",
    "    ceros = False\n",
    "    n1 = 0 #unos\n",
    "    n2 = 0 #ceros\n",
    "    for j in range(len(s)):\n",
    "        if s[j]==\"1\":\n",
    "            n1+=1            \n",
    "            if unos==False:\n",
    "                rachas+=1\n",
    "                unos = True\n",
    "                ceros = False            \n",
    "        else:\n",
    "            n2+=1            \n",
    "            if ceros==False:\n",
    "                rachas+=1\n",
    "                ceros = True\n",
    "                unos = False\n",
    "    print(\"n1 : \",n1,\" n2: \",n2,\" R: \",rachas)\n",
    "    return [n1,n2,rachas]\n",
    "\n",
    "def estadistico(lista):\n",
    "    n1 = lista[0]\n",
    "    n2 = lista[1]\n",
    "    R = lista[2]\n",
    "    n = n1+n2\n",
    "    Z = ((R - ((2*n)-1))/3)/(math.sqrt((16*n-29)/90))\n",
    "    print(\"Z = \", Z)\n",
    "    \n",
    "    miu = (2*n1*n2)/(n1+n2)+1\n",
    "    sigma = math.sqrt(((2*n1*n2)*(2*n1*n2-n1-n2))/(((n1+n2)**2)*(n1+n2-1)))\n",
    "    Z2 = (R-miu)/(sigma)\n",
    "    print(\"Z2 = \", Z2)\n",
    "    \n",
    "    if abs(Z)>Zalfa2:\n",
    "        print(\"No cumple criterio de aleatoriedad\")\n",
    "    else:\n",
    "        print(\"Sí cumple criterio de aleatoriedad\")\n",
    "    \n",
    "if __name__ == \"__main__\":\n",
    "    xa = generador(7,5,0,150,N)\n",
    "    s1 = testRachas(xa)\n",
    "    R1 = contarRachas(s1)\n",
    "    estadistico(R1)\n",
    "    \n",
    "    xb = generador(3,157,1,2**31,N)\n",
    "    s2 = testRachas(xb)\n",
    "    R2 = contarRachas(s2)\n",
    "    estadistico(R2)\n",
    "    \n",
    "    xc = generador(3,22695477,1,2**32,N)\n",
    "    s3 = testRachas(xc)\n",
    "    R3 = contarRachas(s3)\n",
    "    estadistico(R3)"
   ]
  },
  {
   "cell_type": "markdown",
   "metadata": {},
   "source": [
    "**10).Utilizando el metodo de Monte Carlo, y tomando como base el ejemplo del calculo del area del circulo visto en clase:**<br>\n",
    "\n",
    "a).Implemente el metodo de Monte Carlo para calcular y mostrar el area estimada de una elipse con un semieje mayor $a=5$ y semieje mejor $b=3$ centrado en el origen $x,y = (0,0)$ generando $1000$ coordenadas aleatorias $(X,Y)$ en el rango de $X = [-a, a]$ y $Y = [-b,b]$.<br>\n",
    "\n",
    "b).Calcule el area real de la elipse.<br>\n",
    "\n",
    "c).Calcule la diferencia entre el area real y el area estimada de la elipse con el metodo de Monte Carlo.<br>\n",
    "\n",
    "d).Grafique los puntos aleatorios generados que caen dentro de la elipse en rojo y los que caen fuera de la elipse en azul.\n",
    "\n"
   ]
  },
  {
   "cell_type": "code",
   "execution_count": 13,
   "metadata": {},
   "outputs": [
    {
     "name": "stdout",
     "output_type": "stream",
     "text": [
      "a).Area Simulada de la Elipse: 47.22\n",
      "b).Area Real de la Elipse: 47.12388980384689\n",
      "b).Diferencia entre la Area Real y la Area Simulada: 0.09611019615310568\n",
      "d).Grafica:\n"
     ]
    },
    {
     "data": {
      "image/png": "[encoded data removed]",
      "text/plain": [
       "<Figure size 432x288 with 1 Axes>"
      ]
     },
     "metadata": {},
     "output_type": "display_data"
    }
   ],
   "source": [
    "from datetime import datetime\n",
    "import time\n",
    "import math\n",
    "import matplotlib.pyplot as plt\n",
    "\n",
    "def area_simu(a,b,n):\n",
    "    U1=ge_Congruencial_mixto(n)\n",
    "    time.sleep(0.03)\n",
    "    U2=ge_Congruencial_mixto(n)\n",
    "    cont=0\n",
    "    for i in range(n):\n",
    "        xi=10*U1[i]-5\n",
    "        yi=6*U2[i]-3\n",
    "        if(((xi**2)/a**2)+((yi**2)/b**2)<=1):\n",
    "            Xr.append(xi)\n",
    "            Yr.append(yi)\n",
    "            cont+=1\n",
    "        else:\n",
    "            Xa.append(xi)\n",
    "            Ya.append(yi)\n",
    "    \n",
    "    return((cont/n)*4*a*b)\n",
    "\n",
    "def area_real(a,b):\n",
    "    return(math.pi*a*b)\n",
    "    \n",
    "def grafica():\n",
    "    plt.plot(Xr,Yr,'ro')\n",
    "    plt.plot(Xa,Ya,'bo')\n",
    "    plt.show()\n",
    "    \n",
    "     \n",
    "\n",
    "if __name__==\"__main__\":\n",
    "    a=5\n",
    "    b=3\n",
    "    n=1000\n",
    "    Xa=[]\n",
    "    Ya=[]\n",
    "    Xr=[]\n",
    "    Yr=[] \n",
    "    simu=area_simu(a,b,n)\n",
    "    print(\"a).Area Simulada de la Elipse:\",simu)\n",
    "    print(\"b).Area Real de la Elipse:\",area_real(a,b))\n",
    "    print(\"b).Diferencia entre la Area Real y la Area Simulada:\",abs(area_real(a,b)-simu))\n",
    "    print(\"d).Grafica:\")\n",
    "    grafica()\n",
    "   \n",
    "    "
   ]
  }
 ],
 "metadata": {
  "kernelspec": {
   "display_name": "Python 3",
   "language": "python",
   "name": "python3"
  },
  "language_info": {
   "codemirror_mode": {
    "name": "ipython",
    "version": 3
   },
   "file_extension": ".py",
   "mimetype": "text/x-python",
   "name": "python",
   "nbconvert_exporter": "python",
   "pygments_lexer": "ipython3",
   "version": "3.6.5"
  }
 },
 "nbformat": 4,
 "nbformat_minor": 2
}
