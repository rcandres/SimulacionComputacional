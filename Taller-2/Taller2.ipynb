{
 "cells": [
  {
   "cell_type": "code",
   "execution_count": 2,
   "metadata": {},
   "outputs": [
    {
     "name": "stdout",
     "output_type": "stream",
     "text": [
      "Ingrese semilla xo: 12\n",
      "Ingrese valor de a : 23\n",
      "Ingrese valor de c : 34\n",
      "Ingrese valor de m : 45\n",
      "U 0  =  0.8888888888888888 40\n",
      "U 1  =  0.2 9\n",
      "U 2  =  0.35555555555555557 16\n",
      "U 3  =  0.9333333333333333 42\n",
      "U 4  =  0.2222222222222222 10\n",
      "U 5  =  0.8666666666666667 39\n",
      "U 6  =  0.6888888888888889 31\n",
      "U 7  =  0.6 27\n",
      "U 8  =  0.5555555555555556 25\n",
      "U 9  =  0.5333333333333333 24\n",
      "U 10  =  0.022222222222222223 1\n",
      "U 11  =  0.26666666666666666 12\n",
      "U 12  =  0.8888888888888888 40\n",
      "U 13  =  0.2 9\n",
      "U 14  =  0.35555555555555557 16\n",
      "U 15  =  0.9333333333333333 42\n",
      "U 16  =  0.2222222222222222 10\n",
      "U 17  =  0.8666666666666667 39\n",
      "U 18  =  0.6888888888888889 31\n",
      "U 19  =  0.6 27\n",
      "U 20  =  0.5555555555555556 25\n",
      "U 21  =  0.5333333333333333 24\n",
      "U 22  =  0.022222222222222223 1\n",
      "U 23  =  0.26666666666666666 12\n",
      "U 24  =  0.8888888888888888 40\n",
      "U 25  =  0.2 9\n",
      "U 26  =  0.35555555555555557 16\n",
      "U 27  =  0.9333333333333333 42\n",
      "U 28  =  0.2222222222222222 10\n",
      "U 29  =  0.8666666666666667 39\n",
      "U 30  =  0.6888888888888889 31\n",
      "U 31  =  0.6 27\n",
      "U 32  =  0.5555555555555556 25\n",
      "U 33  =  0.5333333333333333 24\n",
      "U 34  =  0.022222222222222223 1\n",
      "U 35  =  0.26666666666666666 12\n",
      "U 36  =  0.8888888888888888 40\n",
      "U 37  =  0.2 9\n",
      "U 38  =  0.35555555555555557 16\n",
      "U 39  =  0.9333333333333333 42\n",
      "U 40  =  0.2222222222222222 10\n",
      "U 41  =  0.8666666666666667 39\n",
      "U 42  =  0.6888888888888889 31\n",
      "U 43  =  0.6 27\n",
      "U 44  =  0.5555555555555556 25\n",
      "U 45  =  0.5333333333333333 24\n",
      "Periodo = 12\n"
     ]
    }
   ],
   "source": [
    "#Generador congruencial mixto\n",
    "def datos():\n",
    "    xo = int(input(\"Semilla xo: \"))\n",
    "    a = int(input(\"Valor de a : \"))\n",
    "    c = int(input(\"Valor de c : \"))\n",
    "    m = int(input(\"Valor de m : \"))\n",
    "    num_aleatorio(xo,a,c,m)\n",
    "    \n",
    "def num_aleatorio(xo,a,c,m):\n",
    "    xn=xo\n",
    "    ui=list()\n",
    "    for i in range(0,m+1):\n",
    "        xn = (a*xn+c)%m\n",
    "        ui.append(xn/m)\n",
    "        print(\"U\",i,\" = \",xn/m,xn)\n",
    "    ciclo(ui)\n",
    "\n",
    "#def ciclo(lista):\n",
    " #   primerValor=lista[0]\n",
    "  #  for j in range(1,len(lista)):\n",
    "   #     if primerValor==lista[j]:\n",
    "    #        print(\"Periodo =\",j)\n",
    "     #       break      \n",
    "datos()"
   ]
  },
  {
   "cell_type": "code",
   "execution_count": 4,
   "metadata": {},
   "outputs": [
    {
     "name": "stdout",
     "output_type": "stream",
     "text": [
      "Semilla: 1\n",
      "1\n",
      "Ingrese semilla válida\n",
      "Semilla: 13\n",
      "2\n",
      "Número aleatorio 0.16\n"
     ]
    }
   ],
   "source": [
    "#Método de cuadrados medios (MidSquare)\n",
    "def semilla():\n",
    "    xo = (input(\"Semilla: \"))\n",
    "    num_aleatorio(xo)\n",
    "    \n",
    "def num_aleatorio(xo):\n",
    "    ui=list()\n",
    "    longitud1 = len(xo)\n",
    "    print(longitud1)\n",
    "\n",
    "    if longitud1%2==0:\n",
    "        cont=0\n",
    "        n=int(longitud1/2)\n",
    "        cuadrado=int(xo)**2\n",
    "        longitud2=len(str(cuadrado))\n",
    "        lista=list(str(cuadrado))\n",
    "        mitad=int(len(lista)/2)\n",
    "        aux=lista[mitad-n:mitad+n]\n",
    "        x1='0.'+''.join(aux)\n",
    "        ui.append(float(x1))\n",
    "        print (\"Número aleatorio {}\".format(x1))\n",
    "    else:\n",
    "        print(\"Semilla invalida\")\n",
    "        semilla()\n",
    "semilla()"
   ]
  }
 ],
 "metadata": {
  "kernelspec": {
   "display_name": "Python 3",
   "language": "python",
   "name": "python3"
  },
  "language_info": {
   "codemirror_mode": {
    "name": "ipython",
    "version": 3
   },
   "file_extension": ".py",
   "mimetype": "text/x-python",
   "name": "python",
   "nbconvert_exporter": "python",
   "pygments_lexer": "ipython3",
   "version": "3.6.3"
  }
 },
 "nbformat": 4,
 "nbformat_minor": 2
}
