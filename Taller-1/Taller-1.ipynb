{
 "cells": [
  {
   "cell_type": "markdown",
   "metadata": {},
   "source": [
    "Comparación Simulación de Montecarlo y método numérico del Trapecio.\n",
    "Se calculará laintegral definida: $I=\\int_{0}^{2} e^{-x^2}dx$,por medio de la Simulacion de Monte Carlo y por el Metodo del Trapecio, ya que por el metodo analitico es muy complicado resolverla.El resultado de la integral por el metodo analitico es $0.882081.....$"
   ]
  },
  {
   "cell_type": "code",
   "execution_count": null,
   "metadata": {
    "collapsed": true
   },
   "outputs": [],
   "source": [
    "# Monte Carlo\n",
    "\n",
    "from random import random\n",
    "import math\n",
    "def integral():\n",
    "    suma=0\n",
    "    n=0\n",
    "    x=0\n",
    "    y=0\n",
    "    while (n<1000000):\n",
    "        x=2*random()\n",
    "        y=2*math.exp(-x*x)\n",
    "        suma+=y\n",
    "        n+=1\n",
    "    print (\"Resultado:\",round(suma/n,4))\n",
    "\n",
    "integral()"
   ]
  },
  {
   "cell_type": "code",
   "execution_count": 7,
   "metadata": {},
   "outputs": [
    {
     "name": "stdout",
     "output_type": "stream",
     "text": [
      "Resultado 0.88208138\n"
     ]
    }
   ],
   "source": [
    "# Integracion Metodo del Trapecio\n",
    "\n",
    "import math\n",
    "\n",
    "def integral():\n",
    "    paso=0.001\n",
    "    x1=0\n",
    "    x2=paso\n",
    "    suma=0\n",
    "    \n",
    "    while(x2<=2):\n",
    "        fx2=math.exp(-x2*x2)\n",
    "        tria=(math.exp(-x1*x1)-fx2)*paso/2\n",
    "        suma+=tria+fx2*paso\n",
    "        x1=x2\n",
    "        x2+=paso\n",
    "    print(\"Resultado\",round(suma,8))\n",
    "\n",
    "integral()\n",
    "        "
   ]
  },
  {
   "cell_type": "markdown",
   "metadata": {},
   "source": [
    "El metodo Monte Carlo, necesita de muchas mas iteraciones para acercarse al valor verdadero de la integral la cual implica mas gasto computacional y su valor puede variar cada vez que se ejecute el codigo ya que hace uso de un numero aleatorio,mientras que en la integracion numerica vemos que en pocas iteraciones tenemos una precision mas efectiva."
   ]
  }
 ],
 "metadata": {
  "kernelspec": {
   "display_name": "Python 3",
   "language": "python",
   "name": "python3"
  },
  "language_info": {
   "codemirror_mode": {
    "name": "ipython",
    "version": 3
   },
   "file_extension": ".py",
   "mimetype": "text/x-python",
   "name": "python",
   "nbconvert_exporter": "python",
   "pygments_lexer": "ipython3",
   "version": "3.6.3"
  }
 },
 "nbformat": 4,
 "nbformat_minor": 2
}
